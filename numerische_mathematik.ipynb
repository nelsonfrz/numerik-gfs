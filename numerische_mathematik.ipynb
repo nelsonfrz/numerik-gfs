{
 "cells": [
  {
   "cell_type": "markdown",
   "id": "646a5575-d333-470b-be6b-b3f873f9bf77",
   "metadata": {},
   "source": [
    "# Numerische Mathematik mit Python & Jupyter Lab\n",
    "Nelson Fritz, Heinrich-Wieland Gymnasium"
   ]
  },
  {
   "cell_type": "markdown",
   "id": "a1e1c5bb-22fb-4ed7-b89d-31780ce21cc7",
   "metadata": {
    "jp-MarkdownHeadingCollapsed": true
   },
   "source": [
    "# 1. Einleitung\n",
    "Python und Jupyter Lab sind unverzichtbare Werkzeuge für jeden, der sich mit numerischer Mathematik beschäftigt. Python bietet eine benutzerfreundliche Syntax und eine umfangreiche Sammlung von Bibliotheken wie NumPy und Matplotlib, die speziell für numerische Berechnungen optimiert sind. Diese Bibliotheken enthalten effiziente Implementierungen von Algorithmen für lineare Algebra, numerische Integration, Differentialgleichungen und vieles mehr, die sowohl in der Forschung als auch in der Industrie weit verbreitet sind. Jupyter Lab wiederum ermöglicht es, diese Berechnungen interaktiv in Notebooks zu dokumentieren, was nicht nur die Zusammenarbeit erleichtert, sondern auch die Möglichkeit bietet, Code, Text, Visualisierungen und mathematische Formeln in einem einzigen Arbeitsbereich zu integrieren. Diese Kombination aus Programmiersprache und Entwicklungsumgebung hat sich als äußerst effektiv erwiesen, um komplexe mathematische Probleme numerisch zu lösen und gleichzeitig das Verständnis für die zugrunde liegenden Konzepte zu fördern."
   ]
  },
  {
   "cell_type": "markdown",
   "id": "66e1c0bf-6324-47c9-887e-ef8f02daaa3f",
   "metadata": {},
   "source": [
    "# 2. Jupyter Lab"
   ]
  },
  {
   "cell_type": "markdown",
   "id": "5474a5ae-4a3c-41a2-a9d2-a33a74d724e0",
   "metadata": {},
   "source": [
    "## 2.1. Was ist Jupyter Lab und ein Notebook?\n",
    "JupyterLab ist eine funktionsreiche und erweiterbare Entwicklungsumgebung von Project Jupyter für Notebooks. Ein Notebook ist ein Dokument, das Computercode, Text, Tabellen, Grafiken, Bilder, Videos und vieles mehr zusammenfasst. Diese Software findet in vielen Bereichen der Wissenschaft und des Ingenieurwesens Anwendung, da sie eine schnelle und interaktive Umgebung für das Prototyping, Erklären von Code, Exploration und Visualisierung von Daten sowie das Teilen von Ideen ermöglicht. [1]"
   ]
  },
  {
   "cell_type": "markdown",
   "id": "ce467613-d650-4edb-bd5a-3a33326daec2",
   "metadata": {},
   "source": [
    "## 2.2. Wo starte ich?\n",
    "Das Starten von JupyterLab kann auf verschiedene Arten erfolgen. Eine Möglichkeit ist die lokale Installation direkt auf dem Computer über die [offizielle Webseite](https://jupyter.org/install) oder in einem virtuellen Anwendungsbehältnis mit [Docker](https://jupyter-docker-stacks.readthedocs.io/en/latest/). Cloud-basierte Anbieter wie [MyBinder](https://mybinder.org/) oder [COCALC](https://cocalc.com/) bieten ebenfalls Zugänglichkeit und Skalierbarkeit. [Jupyter Lite](https://jupyter.org/try-jupyter/lab/index.html) ist eine leichte, browserbasierte Version von JupyterLab, die für Schüler geeignet ist. Zudem können auch Alternativen wie [Google Colab](https://colab.research.google.com/) genutzt werden, um Notebooks anzuzeigen und zu bearbeiten."
   ]
  },
  {
   "cell_type": "markdown",
   "id": "821a681e-1ba4-41e5-9379-271fd16631f3",
   "metadata": {},
   "source": [
    "## 2.3. Das erste Mal Jupyter Lab\n",
    "Beim Betreten des Jupyter Lab wird man mit dem Launcher begrüßt. Um ein Notebook mit der Python Programmiersprache zu erstellen, drückt man den rot markierten Knopf in Abbildung 1.\n",
    "\n",
    "<img src=\"assets/ui_launcher.png\" width=\"900px\">\n",
    "\n",
    "Abbildung 1: Jupyter Lab Launcher\n",
    "\n",
    "\n",
    "Auf der linken Seite des User Interfaces kann man den Datei Browser sehen. Falls dieser zugeklappt ist, kann dieser mit einem Knopfdruck auf den Ordner links oben geöffnet werden. Mit einem Rechts-Klick auf das Notebook, welches in Abbildung 2 rot markiert ist, kann das Kontext Menü für das Notebook geöffnet werden.\n",
    "\n",
    "<img src=\"assets/ui_browser.png\" width=\"400px\">\n",
    "\n",
    "Abbildung 2: Jupyter Lab Browser\n",
    "\n",
    "Der in Abbildung 3 rot-markierte Knopf kann verwendet werden, um das ausgewählte Notebook umzubennen.\n",
    "\n",
    "<img src=\"assets/ui_context_menu.png\" width=\"400px\">\n",
    "\n",
    "Abbildung 3: Jupyter Lab Kontext Menü"
   ]
  },
  {
   "cell_type": "markdown",
   "id": "149829ed-4c35-468d-924a-d40d1428e9c0",
   "metadata": {},
   "source": [
    "## 2.4. Zellen\n",
    "Ein Notebook besteht aus mehreren Zellen, in die Code oder Text geschrieben werden kann. Eine neue Zelle kann mit dem Plus Knopf erstellt werden. Den Typ der Zelle kann im rot-markierten Dropdown Menü ausgewählt werden. Der Typ \"Code\" ist für Zellen, die Python Code ausführen. Der Typ \"Markdown\" ist für Zellen, die Texte oder Medien beinhalten. Der Typ \"Raw\" ist für Zellen, die nur einfachen Text beinhalten. In der Abbildung 4 wurden die beschriebenen Funktionalitäten rot markiert.\n",
    "\n",
    "<img src=\"assets/ui_cell_type.png\" width=\"700px\">\n",
    "\n",
    "Abbildung 4: Zell Typen\n",
    "\n",
    "Um die Zelle nun auszuführen drückt man die Tastenkombination *SHIFT + ENTER*. Bei einer Code Zelle wird der Code an einen Kernel gesendet, der diesen Code ausführt und die Ausgabe zurückgibt. Bei Markdown Zellen wird der Text in der formatierten Ansicht angezeigt. Um mehr über Markdown zu lernen kann man sich den [Markdown Guide](https://www.markdownguide.org/) anschauen.\n",
    "\n",
    "\n",
    "<img src=\"assets/ui_cells.png\" width=\"700px\">\n",
    "\n",
    "Abbildung 5: Zellen"
   ]
  },
  {
   "cell_type": "markdown",
   "id": "3c2056e7-5821-4b1c-a639-6393118104c9",
   "metadata": {},
   "source": [
    "# 3. Python\n",
    "## 3.1. Was ist Python?\n",
    "Python ist eine Allzweck-Programmiersprache, die für ihre Einfachkeit und ihrem großen Ökosystem bekannt ist. Sie findet ihre Anwendung in der Software-Entwicklung, Machine Learning, Datenwissenschaft, sowie Numerik. [2]\n",
    "\n",
    "## 3.2. Python als Taschenrechner\n",
    "Zu Beginn erstellen wir eine Code Zelle und geben eine Rechnung ein. Nachdem wir die Zelle ausführen kann man das Ergebnis dieser Rechnung sehen."
   ]
  },
  {
   "cell_type": "code",
   "execution_count": 35,
   "id": "81c5f470-7959-417b-a1d6-e57c27fa2906",
   "metadata": {},
   "outputs": [
    {
     "data": {
      "text/plain": [
       "2"
      ]
     },
     "execution_count": 35,
     "metadata": {},
     "output_type": "execute_result"
    }
   ],
   "source": [
    "1 + 1"
   ]
  },
  {
   "cell_type": "markdown",
   "id": "cea156ba-8390-4c49-87f6-afc54867dfd5",
   "metadata": {},
   "source": [
    "Es kann sein, dass der Code Fehler beinhaltet, sodass die Ausführung gestoppt und die Fehlermeldung anzeigt wird."
   ]
  },
  {
   "cell_type": "code",
   "execution_count": 36,
   "id": "ea1abe2e-ad79-4bde-8b01-c2760ed634ea",
   "metadata": {},
   "outputs": [],
   "source": [
    "# Entferne Kommentar für Fehlermeldung\n",
    "# 123 + "
   ]
  },
  {
   "cell_type": "markdown",
   "id": "55812df8-9f90-481c-a70f-6db7f16a1db1",
   "metadata": {},
   "source": [
    "## 3.3 Variablen\n",
    "In Python sind Variablen Namen, die im Code spezifiziert werden und auf einen Wert oder ein Objekt verweisen. Namen für Variablen können nur Buchstaben, Unterstriche `_` oder Zahlen beeinhalten. Sie dürfen nicht mit einer Zahl anfangen. Variablen haben verschiedene Typen. Eine Liste von den gängisten Typen lautet:\n",
    "\n",
    "- `int` Ganzzahl, z.B. `42`\n",
    "- `float` Fließkommazahl, z.B. `42.12321`\n",
    "- `str` Sequenz von Charaktern, z.B. `\"hello world 42\"`, `'python is awesome'`, `'''jupyter lab is powerful'''`,  `\"\"\"math is magic\"\"\"`\n",
    "- `bool` Boolescher Wert, i.d.R. `True` oder `False`\n",
    "- `list` Liste von Werten, z.B. `[1, 2, \"hello\", False]`\n",
    "- `NoneType` Ein spezieller Typ der die Abstinenz eines Werten repräsentiert, i.d.R. `None`"
   ]
  },
  {
   "cell_type": "code",
   "execution_count": 37,
   "id": "bab55e99-2e57-4e5a-ac96-5986135ac63d",
   "metadata": {},
   "outputs": [
    {
     "data": {
      "text/plain": [
       "5"
      ]
     },
     "execution_count": 37,
     "metadata": {},
     "output_type": "execute_result"
    }
   ],
   "source": [
    "a = 1\n",
    "b = 4\n",
    "\n",
    "a + b"
   ]
  },
  {
   "cell_type": "code",
   "execution_count": 38,
   "id": "6eaf0d63-7813-45b5-bcda-a3cef4058a57",
   "metadata": {},
   "outputs": [
    {
     "data": {
      "text/plain": [
       "'this is a string'"
      ]
     },
     "execution_count": 38,
     "metadata": {},
     "output_type": "execute_result"
    }
   ],
   "source": [
    "a = \"this is a string\"\n",
    "\n",
    "a"
   ]
  },
  {
   "cell_type": "markdown",
   "id": "b4888d80-4974-4785-ba56-e5f87f57deef",
   "metadata": {},
   "source": [
    "## 3.4 Operatoren\n",
    "Es gibt verschiedene Arten von Operatoren die auf Werten operieren. Eine Liste von den gängisten Operatoren lautet:\n",
    "\n",
    "**Arithmetische Operatoren:**\n",
    "- `+` Addition, z.B. `1 + 2` => `3`\n",
    "- `-` Subtraktion, z.B. `1 - 2` => `-1`\n",
    "- `*` Multiplikation, z.B. `3 * 4` => `12`\n",
    "- `/` Division, z.B. `15 / 5` => `3.0`\n",
    "- `**` Exponentiation , z.B. `2 ** 3` => `8`\n",
    "- `%` Modulo , z.B. `10 % 2` => `0`\n",
    "\n",
    "**Zuweisungsoperatoren:**\n",
    "- `=` Weist einer Variable einen Wert hinzu, z.B. `x = 3`\n",
    "- `+=` Addiert und weist einer Variable einen Wert hinzu, z.B. `x = 3`, `x += 2` => `x = 5`\n",
    "- `-=` Subtrahiert und weist einer Variable einen Wert hinzu, z.B. `x = 3`, `x -= 2` => `x = 1`\n",
    "\n",
    "**Vergleichsoperatoren:**\n",
    "- `==` Gleichheit, z.B. `x = 1`, `x == 1` => `True`\n",
    "- `!=` Ungleichheit, z.B. `x = 1`, `x != 2` => `True`\n",
    "- `<` Weniger als, z.B. `1 < 2` => `True`\n",
    "- `<` Weniger oder gleich als, z.B. `1 <= 2` => `True`\n",
    "- `>` Mehr als, z.B. `1 > 2` => `False`\n",
    "- `>=` Mehr oder gleich als, z.B. `1 >= 2` => `False`\n",
    "\n",
    "**Logische Operatoren**:\n",
    "- `and` Wahr, wenn beide Ausdrücke wahr sind, z.B. `1 == 1 and 2 == 2` => `True`\n",
    "- `or` Wahr, wenn einer der beiden Ausdrücke wahr sind, z.B. `1 == 1 and 3 == 2` => `True\n",
    "- `not` Negation, z.B. `not True` => `False`\n",
    "\n",
    "Wenn mehrere Operatoren in einem Ausdruck verwendet werden, gilt eine Operatorrangfolge ähnlich wie bei [Punktrechnung vor Strichrechnung](https://de.wikipedia.org/wiki/Punktrechnung_vor_Strichrechnung). Operatoren mit der gleichen Ranfolge werden links nach rechts berechnet. Klammern `()` können verwendet werden, um die Rangfolge der Berechnung zu ändern, da diese die höchste Rangfolge besitzen."
   ]
  },
  {
   "cell_type": "markdown",
   "id": "ec6ca1e6-3aa9-4093-a879-5e1b47d44ead",
   "metadata": {},
   "source": [
    "## 3.5 Funktionen\n",
    "Eine Funktion ist ein Block von Code, der nur ausgeführt wird, wenn die Funktion aufgerufen wird. Man kann Daten, sogenannte Parameter, an die Funktion übergeben und die Funktion kann Daten als Ergebnis zurückgeben. Die Syntax einer Funktion sieht wie folgt aus:"
   ]
  },
  {
   "cell_type": "code",
   "execution_count": 39,
   "id": "e416ea4e-57f0-4f2c-b31d-3c43cf94bca2",
   "metadata": {},
   "outputs": [
    {
     "data": {
      "text/plain": [
       "4"
      ]
     },
     "execution_count": 39,
     "metadata": {},
     "output_type": "execute_result"
    }
   ],
   "source": [
    "def f(x):\n",
    "    return x**2\n",
    "\n",
    "f(2)"
   ]
  },
  {
   "cell_type": "code",
   "execution_count": 40,
   "id": "954286a0-1605-4559-940c-8e14d56469c7",
   "metadata": {},
   "outputs": [
    {
     "data": {
      "text/plain": [
       "12"
      ]
     },
     "execution_count": 40,
     "metadata": {},
     "output_type": "execute_result"
    }
   ],
   "source": [
    "def g(x, y, z):\n",
    "    x += y + 1\n",
    "    z *= z - 1\n",
    "    return x + y + z\n",
    "\n",
    "g(1, 2, 3)"
   ]
  },
  {
   "cell_type": "markdown",
   "id": "307c78b8-dd72-4ea9-a9b9-45f1b7efdd7b",
   "metadata": {},
   "source": [
    "Es gibt eine riesige Menge an Funktionen die verwendet werden können. Eine Liste von Funktionen aus der Standard Bibliothek kann man in der [Dokumentation von Python](https://docs.python.org/3/library/index.html) sehen."
   ]
  },
  {
   "cell_type": "code",
   "execution_count": 41,
   "id": "8f388327-8e56-48da-9fa6-9ff511b03668",
   "metadata": {},
   "outputs": [
    {
     "name": "stdout",
     "output_type": "stream",
     "text": [
      "hello world\n",
      "hello everyone\n"
     ]
    }
   ],
   "source": [
    "# Ausgabe von Werten\n",
    "print(\"hello world\")\n",
    "print(\"hello everyone\")"
   ]
  },
  {
   "cell_type": "code",
   "execution_count": 42,
   "id": "5fc2db11-0fbd-4f0b-bf9e-abfe4e5538c6",
   "metadata": {},
   "outputs": [
    {
     "data": {
      "text/plain": [
       "'1'"
      ]
     },
     "execution_count": 42,
     "metadata": {},
     "output_type": "execute_result"
    }
   ],
   "source": [
    "# Konvertierung von einem Wert zur String Repräsentation\n",
    "str(1)"
   ]
  },
  {
   "cell_type": "markdown",
   "id": "3aca057d-596b-4958-9e61-f34647c50013",
   "metadata": {},
   "source": [
    "## 3.6 Kontrollstrukturen\n",
    "### 3.6.1 if-Anweisung\n",
    "Die if-Anweisung führt einen Block von Code aus, wenn ein Ausdruck wahr ist, ansonsten ggf. einen anderen."
   ]
  },
  {
   "cell_type": "code",
   "execution_count": 43,
   "id": "4ff0dddc-b9c4-4fe2-a4ed-d6b238a285ce",
   "metadata": {},
   "outputs": [
    {
     "name": "stdout",
     "output_type": "stream",
     "text": [
      "falls x nicht gleich 0 ist, dann ist x gleich 1\n"
     ]
    }
   ],
   "source": [
    "x = 1\n",
    "\n",
    "if x == 0:\n",
    "    print(\"x ist gleich 0\")\n",
    "elif x == 1:\n",
    "    print(\"falls x nicht gleich 0 ist, dann ist x gleich 1\")\n",
    "else:\n",
    "    print(\"x ist nicht gleich 0 und nicht gleich 1\")"
   ]
  },
  {
   "cell_type": "markdown",
   "id": "f94d99b1-9fe5-4eb8-80d1-3bb61b442b5d",
   "metadata": {},
   "source": [
    "### 3.6.2. while-Schleife\n",
    "Die while-Schleife führt einen Block von Code solange aus, bis ein Ausdruck falsch ist. Diese Art von Schleife wird oft verwendet, wenn man nicht weiß wie viele Iterationen ein Block von Code ausgeführt wird."
   ]
  },
  {
   "cell_type": "code",
   "execution_count": 44,
   "id": "d9a733a2-04c9-4947-b4a3-8002fd4c318e",
   "metadata": {},
   "outputs": [
    {
     "data": {
      "text/plain": [
       "3"
      ]
     },
     "execution_count": 44,
     "metadata": {},
     "output_type": "execute_result"
    }
   ],
   "source": [
    "x = 0\n",
    "while x < 3:\n",
    "    x += 1\n",
    "x"
   ]
  },
  {
   "cell_type": "markdown",
   "id": "5a2be688-e1ca-46f9-a66d-03fcd6aa52a8",
   "metadata": {},
   "source": [
    "### 3.6.3. for-Schleife\n",
    "Die for-Schleife iteriert über eine Sequenz von Werten, wie bspw. eine Liste. Diese Art von Schleife wird oft verwendet, wenn man weiß, wie viele Iterationen ein Block von Code ausgeführt wird."
   ]
  },
  {
   "cell_type": "code",
   "execution_count": 45,
   "id": "0f1d9f67-b0e6-4840-96a9-2f40aacf3a8d",
   "metadata": {},
   "outputs": [
    {
     "data": {
      "text/plain": [
       "6"
      ]
     },
     "execution_count": 45,
     "metadata": {},
     "output_type": "execute_result"
    }
   ],
   "source": [
    "x = [1, 2, 3]\n",
    "summe = 0\n",
    "\n",
    "for x_i in x:\n",
    "    summe += x_i\n",
    "\n",
    "summe"
   ]
  },
  {
   "cell_type": "code",
   "execution_count": 46,
   "id": "be08b1d8-075f-4855-89ad-c23471c80cfe",
   "metadata": {},
   "outputs": [
    {
     "name": "stdout",
     "output_type": "stream",
     "text": [
      "0\n",
      "1\n",
      "2\n",
      "3\n"
     ]
    }
   ],
   "source": [
    "# range(n) wird verwendet, um eine Sequenz von 0 bis n zu erzeugen\n",
    "for i in range(4):\n",
    "    print(i)"
   ]
  },
  {
   "cell_type": "markdown",
   "id": "ce4b32b6-bcf7-41e9-b7f3-388432711d80",
   "metadata": {},
   "source": [
    "## 3.7 Importierung von Modulen\n",
    "Ein Modul ist eine Bibliothek von Code, wie Funktionen, Konstanten, u.v.m. Für die Zwecke dieser Einführung genügt zu wissen, wie Module importiert werden."
   ]
  },
  {
   "cell_type": "code",
   "execution_count": 47,
   "id": "3b121b38-0c31-4f19-9f80-0d50e52923ae",
   "metadata": {},
   "outputs": [
    {
     "data": {
      "text/plain": [
       "3.141592653589793"
      ]
     },
     "execution_count": 47,
     "metadata": {},
     "output_type": "execute_result"
    }
   ],
   "source": [
    "# Importierung des math Module von der Standard Bibliothek\n",
    "import math\n",
    "math.pi"
   ]
  },
  {
   "cell_type": "code",
   "execution_count": 48,
   "id": "88d02184-c223-4200-99c3-ab3526ea192f",
   "metadata": {},
   "outputs": [
    {
     "data": {
      "text/plain": [
       "3.141592653589793"
      ]
     },
     "execution_count": 48,
     "metadata": {},
     "output_type": "execute_result"
    }
   ],
   "source": [
    "# Importierung des math Module von der Standard Bibliothek mit einem Alias\n",
    "import math as m\n",
    "m.pi"
   ]
  },
  {
   "cell_type": "code",
   "execution_count": 49,
   "id": "581b97f0-2e23-44ce-813e-6e4c1fad2f5b",
   "metadata": {},
   "outputs": [
    {
     "data": {
      "text/plain": [
       "3.141592653589793"
      ]
     },
     "execution_count": 49,
     "metadata": {},
     "output_type": "execute_result"
    }
   ],
   "source": [
    "# Importierung einer speziellen Konstante/Funktion/etc. des math Module\n",
    "from math import pi\n",
    "pi"
   ]
  },
  {
   "cell_type": "code",
   "execution_count": 50,
   "id": "307a8a8c-0704-4011-8448-f5ff52310c53",
   "metadata": {},
   "outputs": [
    {
     "data": {
      "text/plain": [
       "23.140692632779267"
      ]
     },
     "execution_count": 50,
     "metadata": {},
     "output_type": "execute_result"
    }
   ],
   "source": [
    "# Importierung von allen Konstanten/Funktionen/etc. des math Module ohne Alias. \n",
    "# Dies Art von Importierung sollte vermieden werden, da es zu Namenskollisionen kommen kann\n",
    "from math import *\n",
    "exp(pi)"
   ]
  },
  {
   "cell_type": "code",
   "execution_count": 51,
   "id": "fbed3804-9a82-4e67-ab4b-ee2f3906de1a",
   "metadata": {},
   "outputs": [],
   "source": [
    "# Importierung von fremden Bibliotheken benötigt eine Installation mithilfe eines package managers wie pip, mamba oder conda\n",
    "import numpy as np\n",
    "import matplotlib.pyplot as plt"
   ]
  },
  {
   "cell_type": "markdown",
   "id": "9afcc167-522e-4561-966a-f5eb2b694b7e",
   "metadata": {},
   "source": [
    "# 4. Numerische Integration\n",
    "Die numerische Integration ist die näherungsweise Berechnung des bestimmten Integral einer Funktion. Das bestimmte Integral ist der Flächeninhalt zwischen dem Graphen einer Funktion und der x-Achse. Der Flächeninhalt **A** zwischen dem Graphen einer Funktion f und der x-Achse über dem Intervall $\\left[a,b\\right]$ wird schrittweise ermittelt:\n",
    "1. Man unterteilt das Intervall $\\left[a,b\\right]$ in n Teilintervalle der Breite $\\Delta x = \\frac{b-a}{n}$.\n",
    "2. Aus jedem Teilintervall wählt man eine Stelle $x_i$ für $i = 1, 2, ..., n$ und berechnet den zugehörigen Funktionswert $f(x_i)$.\n",
    "3. Durch Aufsummieren der Rechtecksflächen erhält man die Zerlegungssumme\n",
    "$$S_n=\\sum _{i=1} ^{n} f(x_i) \\cdot \\Delta x$$\n",
    "4. Je größer n gewählt wird, umso genauer wird **A** durch die Zerlegungssumme angenähert. [3]\n",
    "\n",
    "- https://www.geogebra.org/m/kEAZpGf3#material/SNS8SYSg"
   ]
  },
  {
   "cell_type": "code",
   "execution_count": 52,
   "id": "9ba52af6-1e52-4529-b29f-228832111e64",
   "metadata": {},
   "outputs": [
    {
     "data": {
      "text/plain": [
       "39999.9959999918"
      ]
     },
     "execution_count": 52,
     "metadata": {},
     "output_type": "execute_result"
    }
   ],
   "source": [
    "def f(x):\n",
    "    return x**4\n",
    "\n",
    "a = -10\n",
    "b = 10\n",
    "n = 100000\n",
    "x = np.linspace(a, b, n)\n",
    "dx = (b-a) / n\n",
    "S = 0\n",
    "\n",
    "for i in range(1, n):\n",
    "    S += f(x[i]) * dx\n",
    "\n",
    "S"
   ]
  },
  {
   "cell_type": "markdown",
   "id": "66cdfcd3-8dc7-4ec0-95d7-08ff43567953",
   "metadata": {},
   "source": [
    "# 5. Numerische Differentation\n",
    "Die numerische Differentation ist die näherungsweise Berechnung der Ableitung einer Funktion. Es wird die Steigung an jeder Stelle des Graphen der Funktion ermittelt. Dazu wird der Differenzquotient verwendet. Je kleiner $h$ wird, je genauer wird die Berechnung der Ableitung der Funktion. [3]\n",
    "$$\n",
    "f'(x) \\approx \\frac{f(x+h)-f(x)}{h}\n",
    "$$\n",
    "\n",
    "- https://www.geogebra.org/m/AWFS6sCu"
   ]
  },
  {
   "cell_type": "code",
   "execution_count": 53,
   "id": "047648a8-b82a-4597-abd4-56c9196b6dd6",
   "metadata": {},
   "outputs": [
    {
     "data": {
      "image/png": "[encoded data removed]",
      "text/plain": [
       "<Figure size 640x480 with 1 Axes>"
      ]
     },
     "metadata": {},
     "output_type": "display_data"
    },
    {
     "data": {
      "image/png": "[encoded data removed]",
      "text/plain": [
       "<Figure size 640x480 with 1 Axes>"
      ]
     },
     "metadata": {},
     "output_type": "display_data"
    }
   ],
   "source": [
    "def f(x):\n",
    "    \n",
    "    return x**3+x**2\n",
    "\n",
    "x = np.linspace(-10, 10, 1000)\n",
    "y = f(x)\n",
    "\n",
    "h = 0.01\n",
    "df = (f(x+h)-f(x))/h\n",
    "\n",
    "plt.plot(x,y)\n",
    "plt.title(\"Graph von Funktion f\")\n",
    "plt.xlabel(\"x\")\n",
    "plt.ylabel(\"y\")\n",
    "plt.grid()\n",
    "plt.show()\n",
    "\n",
    "plt.plot(x,df)\n",
    "plt.title(\"Graph von Ableitungsfunktion f'\")\n",
    "plt.xlabel(\"x\")\n",
    "plt.ylabel(\"y\")\n",
    "plt.grid()\n",
    "plt.show()"
   ]
  },
  {
   "attachments": {},
   "cell_type": "markdown",
   "id": "c8fd0cfb-d7cb-416a-abe3-40904219feda",
   "metadata": {},
   "source": [
    "# 6. Newton-Verfahren\n",
    "Das Newton-Verfahren ist ein Algorithmus zur numerischen Lösung von nichtlinearen Gleichungen. So können bspw. Nullstellen einer Funktion näherungsweise berechnet werden. Beim Newton-Verfahren beginnt man mit einem zufälligen Startwert $x_0$, wobei $x_0 \\in \\left[ a, b \\right]$ und $f(a)$ und $f(b)$ verschiedene Vorzeichen haben. Die Nullstelle der Tangente im Punkt $P(x_0|f(x_0))$ ist in vielen Fällen ein besserer Näherungswert für die Nullstelle der Funktion $f(x)$ als $x_0$. Wiederholt man dieses Verfahren, erhält man einen immer besseren Näherungswert.\n",
    "\n",
    "<img src=\"assets/newton_method.png\" width=\"300px\">\n",
    "\n",
    "Abbildung 6: Graph von $f(x)=x^3-x^2-1$ mit Tangente bei $x_0=2$ und Nullstelle der Tangente bei $x_1=1,63$. Erstellt mit GeoGebra.\n",
    "\n",
    "Setzt man diese geometrischen Überlegungen in eine Rechnung um, ergibt sich als Abfolge:\n",
    "\n",
    "1. Man stellt die Gleichung der Tangente im Punkt $P_0$ auf: $y=f'(x_0)(x-x_0)+f(x_0)$.\n",
    "2. Man berechnet die Stelle, an der die Tangente die x-Achse schneidet: $0=f'(x_0)(x-x_0)+f(x_0)$.\n",
    "3. Aus $0=f'(x_0)(x-x_0)+f(x_0)$ folgt $x=x_0-\\frac{f(x_0)}{f'(x_0)}$.\n",
    "4. Wiederholt man diese Berechnung ergibt sich [3]:\n",
    "\n",
    "$$x_{n+1}=x_n-\\frac{f(x_n)}{f'(x_n)}$$\n",
    "\n",
    "- https://www.geogebra.org/m/DGFGBJyU"
   ]
  },
  {
   "cell_type": "code",
   "execution_count": 54,
   "id": "4b38434e-5415-48e1-9c2f-346042fcfcff",
   "metadata": {},
   "outputs": [
    {
     "data": {
      "text/plain": [
       "-1.7148879722985757"
      ]
     },
     "execution_count": 54,
     "metadata": {},
     "output_type": "execute_result"
    }
   ],
   "source": [
    "# Funktion\n",
    "def f(x):\n",
    "    return x**5+x**4+x**3+x**2+x**1+10\n",
    "\n",
    "# Ableitungsfunktion\n",
    "def df(x):\n",
    "    return 5*x**4+4*x**3+3*x**2+2*x+1\n",
    "\n",
    "x = 1 # Wert von x_0\n",
    "n = 1000 # Anzahl Schritte\n",
    "# Newton Verfahren\n",
    "for i in range(n):\n",
    "    x = x - f(x)/df(x)\n",
    "\n",
    "x"
   ]
  },
  {
   "cell_type": "markdown",
   "id": "7a608d06-926a-4184-9b05-194778d43829",
   "metadata": {},
   "source": [
    "# 7. Quellenverzeichnis\n",
    "[1]: Jupyter Documentation, https://docs.jupyter.org/en/latest/, letzter Zugriff: 23.06.2024\n",
    "\n",
    "[2]: Applications for Python https://www.python.org/about/apps/, letzter Zugriff: 23.06.2024\n",
    "\n",
    "[3]: Klett, Lambacher Schweizer Mathematik Jahrgangsstufe erhöhtes Anforderungsniveau, Berufliches Gymnasium Baden-Württemberg"
   ]
  }
 ],
 "metadata": {
  "kernelspec": {
   "display_name": "Python 3 (ipykernel)",
   "language": "python",
   "name": "python3"
  },
  "language_info": {
   "codemirror_mode": {
    "name": "ipython",
    "version": 3
   },
   "file_extension": ".py",
   "mimetype": "text/x-python",
   "name": "python",
   "nbconvert_exporter": "python",
   "pygments_lexer": "ipython3",
   "version": "3.11.9"
  }
 },
 "nbformat": 4,
 "nbformat_minor": 5
}
